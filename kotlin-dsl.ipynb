{
 "cells": [
  {
   "cell_type": "markdown",
   "metadata": {},
   "source": [
    "## first act: Context"
   ]
  },
  {
   "cell_type": "code",
   "execution_count": 6,
   "metadata": {},
   "outputs": [],
   "source": [
    "data class Order(val items: List<Item>)\n",
    "\n",
    "data class Item(val sku: String, val discount: List<Discount>)\n",
    "\n",
    "data class Discount(val code: String, val value: Float)"
   ]
  },
  {
   "cell_type": "code",
   "execution_count": 35,
   "metadata": {},
   "outputs": [
    {
     "data": {
      "text/plain": [
       "Order(items=[Item(sku=some sku, discount=[Discount(code=code1, value=1.0), Discount(code=code2, value=2.0), Discount(code=code3, value=3.0)]), Item(sku=some sku, discount=[Discount(code=code4, value=4.0), Discount(code=code5, value=5.0), Discount(code=code6, value=6.0)])])"
      ]
     },
     "execution_count": 35,
     "metadata": {},
     "output_type": "execute_result"
    }
   ],
   "source": [
    "var items = mutableListOf<Item>()\n",
    "\n",
    "var discount1 = Discount(\"code1\", 1.0F)\n",
    "var discount2 = Discount(\"code2\", 2.0F)\n",
    "var discount3 = Discount(\"code3\", 3.0F)\n",
    "\n",
    "var discounts1 = mutableListOf<Discount>()\n",
    "\n",
    "discounts1.add(discount1)\n",
    "discounts1.add(discount2)\n",
    "discounts1.add(discount3)\n",
    "\n",
    "var item1 = Item(\"some sku\", discounts1)\n",
    "\n",
    "items.add(item1)\n",
    "\n",
    "var discount4 = Discount(\"code4\", 4.0F)\n",
    "var discount5 = Discount(\"code5\", 5.0F)\n",
    "var discount6 = Discount(\"code6\", 6.0F)\n",
    "\n",
    "var discounts2 = mutableListOf<Discount>()\n",
    "\n",
    "discounts2.add(discount4)\n",
    "discounts2.add(discount5)\n",
    "discounts2.add(discount6)\n",
    "\n",
    "var item2 = Item(\"some sku\", discounts2)\n",
    "\n",
    "items.add(item2)\n",
    "\n",
    "Order(items)"
   ]
  },
  {
   "cell_type": "markdown",
   "metadata": {},
   "source": [
    "## second act: Conflict"
   ]
  },
  {
   "cell_type": "code",
   "execution_count": 34,
   "metadata": {},
   "outputs": [
    {
     "data": {
      "text/plain": [
       "Order(items=[Item(sku=some sku, discount=[Discount(code=code1, value=1.0), Discount(code=code2, value=2.0), Discount(code=code3, value=3.0)]), Item(sku=some sku, discount=[Discount(code=code4, value=4.0), Discount(code=code5, value=5.0), Discount(code=code6, value=6.0)])])"
      ]
     },
     "execution_count": 34,
     "metadata": {},
     "output_type": "execute_result"
    }
   ],
   "source": [
    "Order(mutableListOf(\n",
    "    Item(\"some sku\", mutableListOf(\n",
    "        Discount(\"code1\", 1.0F),\n",
    "        Discount(\"code2\", 2.0F),\n",
    "        Discount(\"code3\", 3.0F)\n",
    "    )),\n",
    "    Item(\"some sku\", mutableListOf(\n",
    "        Discount(\"code4\", 4.0F),\n",
    "        Discount(\"code5\", 5.0F),\n",
    "        Discount(\"code6\", 6.0F)\n",
    "    ))\n",
    "))"
   ]
  },
  {
   "cell_type": "code",
   "execution_count": 1,
   "metadata": {},
   "outputs": [],
   "source": [
    "import java.math.BigDecimal\n",
    "\n",
    "class Discount {\n",
    "    lateinit var code: String\n",
    "    lateinit var value: BigDecimal\n",
    "}\n",
    "\n",
    "object discount {\n",
    "    operator fun invoke(block: Discount.() -> Unit): Discount {\n",
    "        val discount = Discount()\n",
    "        discount.run(block)\n",
    "        return discount\n",
    "    }\n",
    "}"
   ]
  },
  {
   "cell_type": "code",
   "execution_count": 11,
   "metadata": {},
   "outputs": [
    {
     "data": {
      "text/plain": [
       "Line_1$Discount@62f6f159"
      ]
     },
     "execution_count": 11,
     "metadata": {},
     "output_type": "execute_result"
    }
   ],
   "source": [
    "discount {\n",
    "    code = \"some code\"\n",
    "    value = BigDecimal.valueOf(10.0)\n",
    "}"
   ]
  },
  {
   "cell_type": "code",
   "execution_count": 2,
   "metadata": {},
   "outputs": [],
   "source": [
    "class Item {\n",
    "    lateinit var sku: String\n",
    "    var discount = mutableListOf<Discount>()\n",
    "\n",
    "    operator fun Discount.unaryPlus() {\n",
    "        discount.add(this)\n",
    "    }\n",
    "}\n",
    "\n",
    "object item {\n",
    "    operator fun invoke(block: Item.() -> Unit): Item {\n",
    "        val item = Item()\n",
    "        item.run(block)\n",
    "        return item\n",
    "    }\n",
    "}"
   ]
  },
  {
   "cell_type": "code",
   "execution_count": 12,
   "metadata": {},
   "outputs": [
    {
     "data": {
      "text/plain": [
       "Line_2$Item@66645fd2"
      ]
     },
     "execution_count": 12,
     "metadata": {},
     "output_type": "execute_result"
    }
   ],
   "source": [
    "item {\n",
    "    sku = \"some sku\"\n",
    "    +discount {\n",
    "        code = \"code1\"\n",
    "        value = BigDecimal.valueOf(10.0)\n",
    "    }\n",
    "}"
   ]
  },
  {
   "cell_type": "code",
   "execution_count": 9,
   "metadata": {},
   "outputs": [],
   "source": [
    "class Order {\n",
    "    var items = mutableListOf<Item>()\n",
    "\n",
    "    operator fun Item.unaryPlus() {\n",
    "        items.add(this)\n",
    "    } \n",
    "}\n",
    "\n",
    "object order {\n",
    "    operator fun invoke(block: Order.() -> Unit): Order {\n",
    "        val order = Order()\n",
    "        order.run(block)\n",
    "        return order\n",
    "    }\n",
    "}"
   ]
  },
  {
   "cell_type": "code",
   "execution_count": 10,
   "metadata": {},
   "outputs": [
    {
     "data": {
      "text/plain": [
       "Line_9$Order@2aa43b2e"
      ]
     },
     "execution_count": 10,
     "metadata": {},
     "output_type": "execute_result"
    }
   ],
   "source": [
    "order {\n",
    "    +item {\n",
    "        sku = \"some sku\"\n",
    "        +discount {\n",
    "            code = \"code1\"\n",
    "            value = BigDecimal.valueOf(10.0)\n",
    "        }\n",
    "    }\n",
    "    +item {\n",
    "        sku = \"something\"\n",
    "        +discount {\n",
    "            code = \"code2\"\n",
    "            value = BigDecimal.valueOf(10.0)\n",
    "        }\n",
    "    }\n",
    "    +item {\n",
    "        sku = \"something\"\n",
    "        +discount {\n",
    "            code = \"code4\"\n",
    "            value = BigDecimal.valueOf(10.0)\n",
    "        }\n",
    "        +discount {\n",
    "            code = \"code3\"\n",
    "            value = BigDecimal.valueOf(10.0)\n",
    "        }\n",
    "    }\n",
    "}"
   ]
  },
  {
   "cell_type": "markdown",
   "metadata": {},
   "source": [
    "## third act: Resolution"
   ]
  },
  {
   "cell_type": "code",
   "execution_count": null,
   "metadata": {},
   "outputs": [],
   "source": []
  }
 ],
 "metadata": {
  "kernelspec": {
   "display_name": "Kotlin",
   "language": "kotlin",
   "name": "kotlin"
  },
  "language_info": {
   "file_extension": "kt",
   "name": "kotlin"
  }
 },
 "nbformat": 4,
 "nbformat_minor": 2
}
